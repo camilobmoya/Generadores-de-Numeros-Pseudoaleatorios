{
 "cells": [
  {
   "cell_type": "markdown",
   "metadata": {},
   "source": [
    "# TEST DE JI CUADRADO."
   ]
  },
  {
   "cell_type": "code",
   "execution_count": 6,
   "metadata": {
    "collapsed": true
   },
   "outputs": [],
   "source": [
    "# -*- coding: utf-8 -*-\n",
    "\"\"\"\n",
    "Created on Tue Sep 15 14:36:38 2015\n",
    "\n",
    "@author: CBM\n",
    "\"\"\"\n",
    "\n",
    "import numpy as np\n",
    "import math\n",
    "\n",
    "\n",
    "def randuX(n):\n",
    "    \"\"\"Retorna una lista que contiene n valores aproximados a una distribución uniforme U(0,1).\n",
    "    \n",
    "    Esto a partir de un GENERADOR CONGRUENCIAL MIXTO... Xn = (170*Xn-1 + 1) mod 30323.\n",
    "    \"\"\"\n",
    "    x0 = 7          #Este es el valor semilla elegido.\n",
    "    valores = []\n",
    "    for i in range(0,n):\n",
    "        xi = (170*x0 + 1)%30323\n",
    "        ui = xi/30323.0\n",
    "        valores.append(ui)\n",
    "        x0 = xi\n",
    "    return valores\n",
    "  \n",
    "\n",
    "def test_chi_cuadrado(k, secuencia=[]):\n",
    "    \"\"\"Retorna el valor aproximado Ji-cuadrado para una secuencia de valores de una distribución U(0,1).\n",
    "    \n",
    "    k es la cantidad de particiones para el intervalo [0,1].\n",
    "    \"\"\"\n",
    "    longitudIntervalo = 1/float(k)  \n",
    "    frecuenciasObservadas = []           #Creando la lista que guardará los contadores para c/u de los k intervalos.\n",
    "    \n",
    "    #Llenando con ceros los contadores de la lista.\n",
    "    for i in range(0,k):\n",
    "        frecuenciasObservadas.append(0)\n",
    "    \n",
    "#    print 'Longitud lista de FO = ' + str(len(frecuenciasObservadas))\n",
    "   \n",
    "    #Recorriendo los valores de la secuencia y aumentando los contadores para c/u de los k intervalos.    \n",
    "    for i in range(len(secuencia)):\n",
    "        cont = 1\n",
    "        for j in range(0,k):     \n",
    "            if secuencia[i]>(cont-1)*longitudIntervalo and secuencia[i]<=cont*longitudIntervalo:\n",
    "                frecuenciasObservadas[j]+=1\n",
    "            cont+=1 \n",
    "            \n",
    "#     Imprimiendo las frecuencias observados en cada intervalo.   \n",
    "#    for i in range(len(frecuenciasObservadas)):\n",
    "#        print 'F[' + str(i) + ']' + ' = ' + str(frecuenciasObservadas[i])+ '\\n'\n",
    "        \n",
    "    frecuenciaEsperada = len(secuencia)/float(k)\n",
    "    estimadoJiCuadrado = 0.0\n",
    "        \n",
    "    for i in range(0,k):\n",
    "        estimadoJiCuadrado += (frecuenciasObservadas[i]-frecuenciaEsperada)**2 / frecuenciaEsperada\n",
    "    return estimadoJiCuadrado\n",
    "  "
   ]
  },
  {
   "cell_type": "markdown",
   "metadata": {},
   "source": [
    "## Generando e imprimiendo un secuencia de 10 valores..."
   ]
  },
  {
   "cell_type": "code",
   "execution_count": 4,
   "metadata": {
    "collapsed": true
   },
   "outputs": [],
   "source": [
    "s=randuX(10)\n"
   ]
  },
  {
   "cell_type": "code",
   "execution_count": 7,
   "metadata": {
    "collapsed": false
   },
   "outputs": [
    {
     "data": {
      "text/plain": [
       "[0.03927711638030538,\n",
       " 0.6771427629192363,\n",
       " 0.1143026745374798,\n",
       " 0.43148764963888797,\n",
       " 0.35293341687827723,\n",
       " 0.9987138475744485,\n",
       " 0.7813870659235563,\n",
       " 0.8358341852719058,\n",
       " 0.09184447449131022,\n",
       " 0.6135936417900604]"
      ]
     },
     "execution_count": 7,
     "metadata": {},
     "output_type": "execute_result"
    }
   ],
   "source": [
    "s"
   ]
  },
  {
   "cell_type": "markdown",
   "metadata": {},
   "source": [
    "## Llamando a la función para obtener el estimado Ji cuadrado con 10 particiones..."
   ]
  },
  {
   "cell_type": "code",
   "execution_count": 4,
   "metadata": {
    "collapsed": false
   },
   "outputs": [
    {
     "data": {
      "text/plain": [
       "4.0"
      ]
     },
     "execution_count": 4,
     "metadata": {},
     "output_type": "execute_result"
    }
   ],
   "source": [
    "test_chi_cuadrado(10,s)\n"
   ]
  }
 ],
 "metadata": {
  "kernelspec": {
   "display_name": "Python 2",
   "language": "python",
   "name": "python2"
  },
  "language_info": {
   "codemirror_mode": {
    "name": "ipython",
    "version": 2
   },
   "file_extension": ".py",
   "mimetype": "text/x-python",
   "name": "python",
   "nbconvert_exporter": "python",
   "pygments_lexer": "ipython2",
   "version": "2.7.10"
  }
 },
 "nbformat": 4,
 "nbformat_minor": 0
}
