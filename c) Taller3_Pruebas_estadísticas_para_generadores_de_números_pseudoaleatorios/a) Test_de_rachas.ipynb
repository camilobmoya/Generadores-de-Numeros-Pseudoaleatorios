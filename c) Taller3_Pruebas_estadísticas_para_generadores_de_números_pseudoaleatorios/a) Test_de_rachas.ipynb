{
 "cells": [
  {
   "cell_type": "markdown",
   "metadata": {},
   "source": [
    "# TEST DE RACHAS."
   ]
  },
  {
   "cell_type": "markdown",
   "metadata": {},
   "source": [
    "Este test se utiliza para determinar la aleatoriedad de una secuencia, a partir de un estadístico de contraste Z.\n",
    "Comprobaremos la aleatoriedad de una secuencia de 100 valores que siguen una distribución U[0,1]. En primer lugar, generados a partir de la librería numpy. En segundo lugar, obtenidos a partir de un generador congruencial mixto implementado como la función randuX(n)."
   ]
  },
  {
   "cell_type": "markdown",
   "metadata": {},
   "source": [
    "## El código, "
   ]
  },
  {
   "cell_type": "code",
   "execution_count": 1,
   "metadata": {
    "collapsed": true
   },
   "outputs": [],
   "source": [
    "# -*- coding: utf-8 -*-\n",
    "\"\"\"@author: CBM\"\"\"\n",
    "\n",
    "import math\n",
    "import numpy as np\n",
    "\n",
    "def randuX(n):\n",
    "    \"\"\"Retorna una lista que contiene n valores aproximados a una distribución uniforme U(0,1).\n",
    "    \n",
    "    Esto a partir de un GENERADOR CONGRUENCIAL MIXTO... Xn = (170*Xn-1 + 1) mod 30323.\n",
    "    \"\"\"\n",
    "    x0 = 7          #Este es el valor semilla elegido.\n",
    "    valores = []\n",
    "    for i in range(0,n):\n",
    "        xi = (170*x0 + 1)%30323\n",
    "        ui = xi/30323.0\n",
    "        valores.append(ui)\n",
    "        x0 = xi\n",
    "    return valores\n",
    "    \n",
    "\n",
    "def test_rachas(secuencia=[]):\n",
    "    \"\"\"Retorna el valor estadístico de contraste Z para determinar la aleatoriedad de una secuencia.\"\"\"\n",
    "    rachas = []           #Creando la lista para las rachas de la secuencia.\n",
    "    rachas.append(' ')    #Añadiendo un espacio para el primer valor de la lista.\n",
    "    #Completando con ceros los demás valores de la lista.    \n",
    "    for i in range(1, len(secuencia)):\n",
    "        rachas.append(0)\n",
    "        \n",
    "    #Recorriendo la secuencia y llenando con 1 ó 0.   \n",
    "    for i in range(0, len(secuencia)-1):\n",
    "        if secuencia[i+1]>secuencia[i]:\n",
    "            rachas[i+1]=1\n",
    "    print '\\nRachas = ' + str(rachas)\n",
    "    \n",
    "    #Determinando el número de rachas de la secuencia.\n",
    "    numRachas = 0\n",
    "    print (rachas[0])\n",
    "    for i in range(1, len(rachas)-1):\n",
    "        if rachas[i+1] != rachas[i]:\n",
    "            numRachas += 1\n",
    "    numRachas += 1\n",
    "    print 'Numero de rachas de la secuencia = ' + str(numRachas) + '\\n'\n",
    "        \n",
    "    #Calculando el estadístico de contraste Z.  \n",
    "    n = len(secuencia)\n",
    "    z = (numRachas - ((2*n - 1)/float(3))) / (math.sqrt((16*n-29)/float(90)))\n",
    "    return 'Z = ' + str(z)\n",
    "\n",
    "\n",
    "def test_rachas_dos():\n",
    "    \"\"\"Retorna el valor estadístico de contraste Z para determinar la aleatoriedad de una secuencia.\n",
    "    \n",
    "    Secuencia de 100 números generada aleatoriamaente a partir de la líbrería numpy.\n",
    "    \"\"\"\n",
    "    secuencia = np.random.uniform(0,1,100) \n",
    "    print '\\n' + str(secuencia)\n",
    "    rachas = []           #Creando la lista para las rachas de la secuencia.\n",
    "    rachas.append(' ')    #Añadiendo un espacio para el primer valor de la lista.\n",
    "    #Completando con ceros los demás valores de la lista.    \n",
    "    for i in range(1, len(secuencia)):\n",
    "        rachas.append(0)\n",
    "        \n",
    "    #Recorriendo la secuencia y llenando con 1 ó 0.   \n",
    "    for i in range(0, len(secuencia)-1):\n",
    "        if secuencia[i+1]>secuencia[i]:\n",
    "            rachas[i+1]=1\n",
    "    print '\\nRachas = ' + str(rachas)\n",
    "    \n",
    "    #Determinando el número de rachas de la secuencia.\n",
    "    numRachas = 0\n",
    "    print (rachas[0])\n",
    "    for i in range(1, len(rachas)-1):\n",
    "        if rachas[i+1] != rachas[i]:\n",
    "            numRachas += 1\n",
    "    numRachas += 1\n",
    "    print 'Numero de rachas de la secuencia = ' + str(numRachas) + '\\n'\n",
    "        \n",
    "    #Calculando el estadístico de contraste Z. \n",
    "    n = len(secuencia)\n",
    "    z = (numRachas - ((2*n - 1)/float(3))) / (math.sqrt((16*n-29)/float(90)))\n",
    "    return 'Z = ' + str(z)"
   ]
  },
  {
   "cell_type": "markdown",
   "metadata": {},
   "source": [
    "Aplicando el test a una secuencia de 100 valores generados a partir de la librería numpy..."
   ]
  },
  {
   "cell_type": "code",
   "execution_count": 2,
   "metadata": {
    "collapsed": false
   },
   "outputs": [
    {
     "name": "stdout",
     "output_type": "stream",
     "text": [
      "\n",
      "[ 0.16057553  0.09516574  0.68046618  0.29497167  0.52511977  0.23708207\n",
      "  0.34989554  0.73158586  0.93833457  0.54967334  0.08156517  0.17462625\n",
      "  0.66974882  0.4106753   0.88651229  0.88356769  0.52672955  0.05258967\n",
      "  0.08469297  0.55941478  0.45032435  0.88500598  0.10032806  0.73379771\n",
      "  0.52801357  0.26833731  0.43831567  0.20269971  0.24024333  0.96075498\n",
      "  0.69131269  0.73821406  0.55033638  0.25490939  0.63404872  0.39260622\n",
      "  0.39262366  0.64201076  0.23395424  0.07740772  0.17566256  0.93977122\n",
      "  0.21299056  0.05534649  0.73964944  0.93332357  0.04452525  0.10136764\n",
      "  0.29382189  0.85859463  0.57386858  0.77028653  0.09975643  0.0768192\n",
      "  0.29234386  0.84570046  0.88558066  0.87852124  0.79181356  0.12336319\n",
      "  0.72228297  0.08232293  0.79344865  0.41991116  0.02269161  0.30239356\n",
      "  0.68503966  0.07313195  0.44217781  0.14806275  0.79038359  0.45972235\n",
      "  0.70257003  0.51299549  0.51745034  0.28440529  0.10106808  0.71654148\n",
      "  0.88793459  0.6446926   0.87824233  0.41391753  0.85717686  0.45844475\n",
      "  0.89194411  0.25231001  0.53249943  0.32215453  0.12394243  0.71055429\n",
      "  0.1502934   0.80142113  0.47094563  0.54794014  0.19343968  0.2269222\n",
      "  0.9973017   0.29823729  0.5705939   0.9413038 ]\n",
      "\n",
      "Rachas = [' ', 0, 1, 0, 1, 0, 1, 1, 1, 0, 0, 1, 1, 0, 1, 0, 0, 0, 1, 1, 0, 1, 0, 1, 0, 0, 1, 0, 1, 1, 0, 1, 0, 0, 1, 0, 1, 1, 0, 0, 1, 1, 0, 0, 1, 1, 0, 1, 1, 1, 0, 1, 0, 0, 1, 1, 1, 0, 0, 0, 1, 0, 1, 0, 0, 1, 1, 0, 1, 0, 1, 0, 1, 0, 1, 0, 0, 1, 1, 0, 1, 0, 1, 0, 1, 0, 1, 0, 0, 1, 0, 1, 0, 1, 0, 1, 1, 0, 1, 1]\n",
      " \n",
      "Numero de rachas de la secuencia = 70\n",
      "\n"
     ]
    },
    {
     "data": {
      "text/plain": [
       "'Z = 0.877616121826'"
      ]
     },
     "execution_count": 2,
     "metadata": {},
     "output_type": "execute_result"
    }
   ],
   "source": [
    "test_rachas_dos()"
   ]
  },
  {
   "cell_type": "markdown",
   "metadata": {},
   "source": [
    "Ahora, obteniendo la secuencia de valores a partir de un generador congruencial mixto y aplicando el test de rachas..."
   ]
  },
  {
   "cell_type": "code",
   "execution_count": 3,
   "metadata": {
    "collapsed": true
   },
   "outputs": [],
   "source": [
    "s = randuX(100)"
   ]
  },
  {
   "cell_type": "code",
   "execution_count": 4,
   "metadata": {
    "collapsed": false
   },
   "outputs": [
    {
     "data": {
      "text/plain": [
       "[0.03927711638030538,\n",
       " 0.6771427629192363,\n",
       " 0.1143026745374798,\n",
       " 0.43148764963888797,\n",
       " 0.35293341687827723,\n",
       " 0.9987138475744485,\n",
       " 0.7813870659235563,\n",
       " 0.8358341852719058,\n",
       " 0.09184447449131022,\n",
       " 0.6135936417900604,\n",
       " 0.3109520825775814,\n",
       " 0.8618870164561554,\n",
       " 0.5208257758137388,\n",
       " 0.5404148666029087,\n",
       " 0.870560300761798,\n",
       " 0.9952841077729776,\n",
       " 0.19833129967351515,\n",
       " 0.716353922764898,\n",
       " 0.7801998482999704,\n",
       " 0.6340071892622762,\n",
       " 0.781255152854269,\n",
       " 0.813408963493058,\n",
       " 0.27955677208719454,\n",
       " 0.5246842330903935,\n",
       " 0.19635260363420506,\n",
       " 0.37997559608218184,\n",
       " 0.595884312238235,\n",
       " 0.30036605876727235,\n",
       " 0.06226296870362431,\n",
       " 0.5847376578834548,\n",
       " 0.4054348184546384,\n",
       " 0.9239521155558487,\n",
       " 0.0718926227616001,\n",
       " 0.22177884773933979,\n",
       " 0.7024370939550836,\n",
       " 0.4143389506315338,\n",
       " 0.4376545856280711,\n",
       " 0.401312535039409,\n",
       " 0.22316393496685685,\n",
       " 0.9379019226329849,\n",
       " 0.44335982587474854,\n",
       " 0.37120337697457373,\n",
       " 0.10460706394486034,\n",
       " 0.7832338488935792,\n",
       " 0.14978729017577416,\n",
       " 0.4638723081489299,\n",
       " 0.8583253635853972,\n",
       " 0.9153447877848497,\n",
       " 0.6086469016917851,\n",
       " 0.47000626587079114,\n",
       " 0.9010981763018171,\n",
       " 0.18672294957622926,\n",
       " 0.7429344062262969,\n",
       " 0.2988820367377898,\n",
       " 0.8099792236915873,\n",
       " 0.6965010058371534,\n",
       " 0.40520397058338553,\n",
       " 0.8847079774428651,\n",
       " 0.40038914355439764,\n",
       " 0.06618738251492266,\n",
       " 0.25188800580417503,\n",
       " 0.8209939649770801,\n",
       " 0.5690070243709395,\n",
       " 0.7312271213270455,\n",
       " 0.3086436038650529,\n",
       " 0.46944563532631994,\n",
       " 0.8057909837417142,\n",
       " 0.9845002143587376,\n",
       " 0.36506941925271247,\n",
       " 0.06183425122844046,\n",
       " 0.5118556871021996,\n",
       " 0.015499785641262408,\n",
       " 0.6349965372819312,\n",
       " 0.9494443161956271,\n",
       " 0.40556673152392575,\n",
       " 0.9463773373346964,\n",
       " 0.8841803251657158,\n",
       " 0.3106882564390067,\n",
       " 0.8170365728984599,\n",
       " 0.8962503710055074,\n",
       " 0.36259604920357486,\n",
       " 0.6413613428750453,\n",
       " 0.03146126702503051,\n",
       " 0.34844837252250765,\n",
       " 0.2362563070936253,\n",
       " 0.163605184183623,\n",
       " 0.8129142894832305,\n",
       " 0.19546219041651552,\n",
       " 0.2286053490749596,\n",
       " 0.8629423210104541,\n",
       " 0.7002275500445206,\n",
       " 0.03871648583583419,\n",
       " 0.5818355703591334,\n",
       " 0.9120799393199881,\n",
       " 0.053622662665303564,\n",
       " 0.11588563136892788,\n",
       " 0.7005903109850609,\n",
       " 0.10038584572766547,\n",
       " 0.06562675197045147,\n",
       " 0.15658081324407216]"
      ]
     },
     "execution_count": 4,
     "metadata": {},
     "output_type": "execute_result"
    }
   ],
   "source": [
    "s"
   ]
  },
  {
   "cell_type": "code",
   "execution_count": 5,
   "metadata": {
    "collapsed": false
   },
   "outputs": [
    {
     "name": "stdout",
     "output_type": "stream",
     "text": [
      "\n",
      "Rachas = [' ', 1, 0, 1, 0, 1, 0, 1, 0, 1, 0, 1, 0, 1, 1, 1, 0, 1, 1, 0, 1, 1, 0, 1, 0, 1, 1, 0, 0, 1, 0, 1, 0, 1, 1, 0, 1, 0, 0, 1, 0, 0, 0, 1, 0, 1, 1, 1, 0, 0, 1, 0, 1, 0, 1, 0, 0, 1, 0, 0, 1, 1, 0, 1, 0, 1, 1, 1, 0, 0, 1, 0, 1, 1, 0, 1, 0, 0, 1, 1, 0, 1, 0, 1, 0, 0, 1, 0, 1, 1, 0, 0, 1, 1, 0, 1, 1, 0, 0, 1]\n",
      " \n",
      "Numero de rachas de la secuencia = 71\n",
      "\n"
     ]
    },
    {
     "data": {
      "text/plain": [
       "'Z = 1.11696597323'"
      ]
     },
     "execution_count": 5,
     "metadata": {},
     "output_type": "execute_result"
    }
   ],
   "source": [
    "test_rachas(s)"
   ]
  }
 ],
 "metadata": {
  "kernelspec": {
   "display_name": "Python 2",
   "language": "python",
   "name": "python2"
  },
  "language_info": {
   "codemirror_mode": {
    "name": "ipython",
    "version": 2
   },
   "file_extension": ".py",
   "mimetype": "text/x-python",
   "name": "python",
   "nbconvert_exporter": "python",
   "pygments_lexer": "ipython2",
   "version": "2.7.10"
  }
 },
 "nbformat": 4,
 "nbformat_minor": 0
}
