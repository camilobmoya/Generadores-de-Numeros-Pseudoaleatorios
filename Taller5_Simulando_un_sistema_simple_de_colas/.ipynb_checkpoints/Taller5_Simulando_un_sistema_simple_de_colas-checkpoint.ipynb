{
 "cells": [
  {
   "cell_type": "markdown",
   "metadata": {},
   "source": [
    "# TALLER No. 5 Simulando un sistema de cola simple."
   ]
  },
  {
   "cell_type": "markdown",
   "metadata": {},
   "source": [
    "Este taller trata acerca de la simulación de un sistema simple de colas con una entrada y un servidor, donde las llegadas son los números de clientes en una unidad de tiempo con distribución de Poisson con parámetro lambda y numero de clientes atendidos por unidad de tiempo del servidor con distribución normal con parámetros mu, sigma. Para calcular tiempos promedios de los clientes en cola, en el servidor y en el sistema."
   ]
  },
  {
   "cell_type": "markdown",
   "metadata": {},
   "source": [
    "Para la elaboración de este laboratorio se tiene en cuenta la siguiente información [1]:"
   ]
  },
  {
   "cell_type": "markdown",
   "metadata": {},
   "source": [
    "<img src=\"capture.jpg\">"
   ]
  },
  {
   "cell_type": "markdown",
   "metadata": {},
   "source": [
    "[1]Teoría de líneas de espera(Colas). Disponible desde internet: https://matematicasaplicadasapi.files.wordpress.com/2012/02/documento-de-teorc3ada-de-colas1.pdf"
   ]
  },
  {
   "cell_type": "markdown",
   "metadata": {},
   "source": [
    "##Ahora, el código:"
   ]
  },
  {
   "cell_type": "code",
   "execution_count": 2,
   "metadata": {
    "collapsed": true
   },
   "outputs": [],
   "source": [
    "# -*- coding: utf-8 -*-\n",
    "\n",
    "def simular_cola_simple(lamb, mu, sigma):\n",
    "    \"\"\"Imprime los tiempos promedio de espera en la cola, en el sistema y en el servicio para un sistema de cola simple.\n",
    "\n",
    "    Con distribuciones de tasas de llegada del sistema Poisson(lamb) y, tasa de servicios Normal(mu,sigma).\n",
    "    \"\"\"    \n",
    "    #Validando que la Tasa promedio de Servicios(mu) sea mayor que la Tasa promedio de Llegadas(lamb).\n",
    "    #Para asegurar que el sistema tenga estado estable.\n",
    "    if mu>lamb:\n",
    "        #Calculando la pobabilidad de hallar el sistema ocupado (p).\n",
    "        p = float(lamb)/float(mu)\n",
    "        #Calculando el número promedio de clientes en la cola (lq).\n",
    "        lq = ((float(lamb)*float(sigma))**2 + p**2) / (2*(1-p))\n",
    "        #Calculando el Tiempo promedio de espera de un cliente en la cola (wq).\n",
    "        wq = lq/float(lamb)\n",
    "        #Calculando el Tiempo promedio de espera de un cliente en el sistema(w).\n",
    "        w = wq + (1/float(mu))\n",
    "        print '\\nEl Tiempo promedio de espera de un cliente en cola(Wq) = ' + str(wq) \n",
    "        print 'unidades de tiempo.'\n",
    "        print '\\nEl Tiempo de servicio de un cliente (Ws) = ' + str(1/float(mu)) \n",
    "        print 'unidades de tiempo.'\n",
    "        print '\\nEl Tiempo promedio de espera de un cliente en el sistema(W) = ' + str(w)\n",
    "        print 'unidades de tiempo.'\n",
    "    else:\n",
    "        print 'Elija un valor de mu mayor que lambda'\n",
    "         \n",
    "        \n",
    "    "
   ]
  },
  {
   "cell_type": "markdown",
   "metadata": {},
   "source": [
    "Simulando una cola simple con Distribución de Llegadas Poisson(2) y Distribución de Servicios Normal(4,2):"
   ]
  },
  {
   "cell_type": "code",
   "execution_count": 3,
   "metadata": {
    "collapsed": false
   },
   "outputs": [
    {
     "name": "stdout",
     "output_type": "stream",
     "text": [
      "\n",
      "El Tiempo promedio de espera de un cliente en cola(Wq) = 8.125\n",
      "unidades de tiempo.\n",
      "\n",
      "El Tiempo de servicio de un cliente (Ws) = 0.25\n",
      "unidades de tiempo.\n",
      "\n",
      "El Tiempo promedio de espera de un cliente en el sistema(W) = 8.375\n",
      "unidades de tiempo.\n"
     ]
    }
   ],
   "source": [
    "simular_cola_simple(2,4,2)"
   ]
  },
  {
   "cell_type": "markdown",
   "metadata": {},
   "source": [
    "Simulando una cola simple con Distribución de Llegadas Poisson(5) y Distribución de Servicios Normal(7,1):"
   ]
  },
  {
   "cell_type": "code",
   "execution_count": 4,
   "metadata": {
    "collapsed": false
   },
   "outputs": [
    {
     "name": "stdout",
     "output_type": "stream",
     "text": [
      "\n",
      "El Tiempo promedio de espera de un cliente en cola(Wq) = 8.92857142857\n",
      "unidades de tiempo.\n",
      "\n",
      "El Tiempo de servicio de un cliente (Ws) = 0.142857142857\n",
      "unidades de tiempo.\n",
      "\n",
      "El Tiempo promedio de espera de un cliente en el sistema(W) = 9.07142857143\n",
      "unidades de tiempo.\n"
     ]
    }
   ],
   "source": [
    "simular_cola_simple(5,7,1)"
   ]
  }
 ],
 "metadata": {
  "kernelspec": {
   "display_name": "Python 2",
   "language": "python",
   "name": "python2"
  },
  "language_info": {
   "codemirror_mode": {
    "name": "ipython",
    "version": 2
   },
   "file_extension": ".py",
   "mimetype": "text/x-python",
   "name": "python",
   "nbconvert_exporter": "python",
   "pygments_lexer": "ipython2",
   "version": "2.7.10"
  }
 },
 "nbformat": 4,
 "nbformat_minor": 0
}
